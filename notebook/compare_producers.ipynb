{
 "cells": [
  {
   "cell_type": "code",
   "execution_count": 5,
   "id": "df38752d-ba3f-4e77-b598-99992d12d902",
   "metadata": {
    "editable": true,
    "slideshow": {
     "slide_type": ""
    },
    "tags": [
     "parameters"
    ]
   },
   "outputs": [],
   "source": [
    "producerId1 = \"nm1770680\"\n",
    "producerId2 = \"nm0005690\""
   ]
  },
  {
   "cell_type": "code",
   "execution_count": 6,
   "id": "7e184e24-088e-4eb4-b7ed-0749ad15a873",
   "metadata": {},
   "outputs": [],
   "source": [
    "from film_ranking.lib.analyze import producers_comparison"
   ]
  },
  {
   "cell_type": "code",
   "execution_count": 7,
   "id": "d766d248-8888-4a98-9a19-df8ab437d3c0",
   "metadata": {},
   "outputs": [
    {
     "data": {
      "text/html": [
       "<div>\n",
       "<style scoped>\n",
       "    .dataframe tbody tr th:only-of-type {\n",
       "        vertical-align: middle;\n",
       "    }\n",
       "\n",
       "    .dataframe tbody tr th {\n",
       "        vertical-align: top;\n",
       "    }\n",
       "\n",
       "    .dataframe thead th {\n",
       "        text-align: right;\n",
       "    }\n",
       "</style>\n",
       "<table border=\"1\" class=\"dataframe\">\n",
       "  <thead>\n",
       "    <tr style=\"text-align: right;\">\n",
       "      <th></th>\n",
       "      <th>0</th>\n",
       "      <th>1</th>\n",
       "    </tr>\n",
       "  </thead>\n",
       "  <tbody>\n",
       "    <tr>\n",
       "      <th>producerId</th>\n",
       "      <td>nm0005690</td>\n",
       "      <td>nm1770680</td>\n",
       "    </tr>\n",
       "    <tr>\n",
       "      <th>producerName</th>\n",
       "      <td>William K.L. Dickson</td>\n",
       "      <td>Julien Pappé</td>\n",
       "    </tr>\n",
       "    <tr>\n",
       "      <th>movie</th>\n",
       "      <td>Carmencita,Corbett and Courtney Before the Kin...</td>\n",
       "      <td>Pauvre Pierrot</td>\n",
       "    </tr>\n",
       "    <tr>\n",
       "      <th>movieCount</th>\n",
       "      <td>116</td>\n",
       "      <td>1</td>\n",
       "    </tr>\n",
       "    <tr>\n",
       "      <th>awards</th>\n",
       "      <td>None</td>\n",
       "      <td>None</td>\n",
       "    </tr>\n",
       "    <tr>\n",
       "      <th>awardsCount</th>\n",
       "      <td>None</td>\n",
       "      <td>None</td>\n",
       "    </tr>\n",
       "    <tr>\n",
       "      <th>avgRating</th>\n",
       "      <td>4.212931</td>\n",
       "      <td>6.5</td>\n",
       "    </tr>\n",
       "    <tr>\n",
       "      <th>totalVotes</th>\n",
       "      <td>34728</td>\n",
       "      <td>2023</td>\n",
       "    </tr>\n",
       "    <tr>\n",
       "      <th>totalProduct</th>\n",
       "      <td>146306.668966</td>\n",
       "      <td>13149.5</td>\n",
       "    </tr>\n",
       "  </tbody>\n",
       "</table>\n",
       "</div>"
      ],
      "text/plain": [
       "                                                              0  \\\n",
       "producerId                                            nm0005690   \n",
       "producerName                               William K.L. Dickson   \n",
       "movie         Carmencita,Corbett and Courtney Before the Kin...   \n",
       "movieCount                                                  116   \n",
       "awards                                                     None   \n",
       "awardsCount                                                None   \n",
       "avgRating                                              4.212931   \n",
       "totalVotes                                                34728   \n",
       "totalProduct                                      146306.668966   \n",
       "\n",
       "                           1  \n",
       "producerId         nm1770680  \n",
       "producerName    Julien Pappé  \n",
       "movie         Pauvre Pierrot  \n",
       "movieCount                 1  \n",
       "awards                  None  \n",
       "awardsCount             None  \n",
       "avgRating                6.5  \n",
       "totalVotes              2023  \n",
       "totalProduct         13149.5  "
      ]
     },
     "execution_count": 7,
     "metadata": {},
     "output_type": "execute_result"
    }
   ],
   "source": [
    "df = producers_comparison(producerId1, producerId2)\n",
    "df.T"
   ]
  }
 ],
 "metadata": {
  "kernelspec": {
   "display_name": "Python 3 (ipykernel)",
   "language": "python",
   "name": "python3"
  },
  "language_info": {
   "codemirror_mode": {
    "name": "ipython",
    "version": 3
   },
   "file_extension": ".py",
   "mimetype": "text/x-python",
   "name": "python",
   "nbconvert_exporter": "python",
   "pygments_lexer": "ipython3",
   "version": "3.11.1"
  }
 },
 "nbformat": 4,
 "nbformat_minor": 5
}
