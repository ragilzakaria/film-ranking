{
 "cells": [
  {
   "cell_type": "code",
   "execution_count": null,
   "id": "3b444d0f-a999-48f0-986d-f05962c38f47",
   "metadata": {
    "editable": true,
    "slideshow": {
     "slide_type": ""
    },
    "tags": [
     "parameters"
    ]
   },
   "outputs": [],
   "source": [
    "start_year = 2000\n",
    "end_year = 2003\n",
    "sort_by = \"avgRating\""
   ]
  },
  {
   "cell_type": "code",
   "execution_count": null,
   "id": "c1c35a44-f157-4f1f-9db6-8a7738255f61",
   "metadata": {
    "editable": true,
    "slideshow": {
     "slide_type": ""
    },
    "tags": []
   },
   "outputs": [],
   "source": [
    "from film_ranking.lib.analyze import get_actors_rank"
   ]
  },
  {
   "cell_type": "code",
   "execution_count": null,
   "id": "254d5476-08cb-44ce-9de2-92e6c296d9a1",
   "metadata": {
    "editable": true,
    "slideshow": {
     "slide_type": ""
    },
    "tags": []
   },
   "outputs": [],
   "source": [
    "df = get_actors_rank(start_year, end_year, sort_by)\n",
    "df.head()"
   ]
  }
 ],
 "metadata": {
  "kernelspec": {
   "display_name": "Python 3 (ipykernel)",
   "language": "python",
   "name": "python3"
  },
  "language_info": {
   "codemirror_mode": {
    "name": "ipython",
    "version": 3
   },
   "file_extension": ".py",
   "mimetype": "text/x-python",
   "name": "python",
   "nbconvert_exporter": "python",
   "pygments_lexer": "ipython3",
   "version": "3.11.1"
  }
 },
 "nbformat": 4,
 "nbformat_minor": 5
}
