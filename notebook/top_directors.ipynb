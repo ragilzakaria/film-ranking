{
 "cells": [
  {
   "cell_type": "code",
   "execution_count": 1,
   "id": "13fdfcf1-34c1-4895-b84c-d643bdb08249",
   "metadata": {
    "editable": true,
    "slideshow": {
     "slide_type": ""
    },
    "tags": [
     "parameters"
    ]
   },
   "outputs": [],
   "source": [
    "start_year = 2000\n",
    "end_year = 2003\n",
    "sort_by = \"avgRating\""
   ]
  },
  {
   "cell_type": "code",
   "execution_count": 2,
   "id": "3500a9a4-48b1-4e8f-bd2e-d9ce6c26b0be",
   "metadata": {
    "editable": true,
    "slideshow": {
     "slide_type": ""
    },
    "tags": []
   },
   "outputs": [],
   "source": [
    "from film_ranking.lib.analyze import get_directors_rank"
   ]
  },
  {
   "cell_type": "code",
   "execution_count": null,
   "id": "6af1ef02-e831-47bd-a23e-057c64887509",
   "metadata": {},
   "outputs": [],
   "source": [
    "import pandas as pd\n",
    "# Display all rows and columns\n",
    "pd.set_option('display.max_rows', None)\n",
    "pd.set_option('display.max_columns', None)"
   ]
  },
  {
   "cell_type": "code",
   "execution_count": 3,
   "id": "c30205d4-f360-4054-82fe-a1def36beae8",
   "metadata": {
    "editable": true,
    "slideshow": {
     "slide_type": ""
    },
    "tags": []
   },
   "outputs": [
    {
     "data": {
      "text/html": [
       "<div>\n",
       "<style scoped>\n",
       "    .dataframe tbody tr th:only-of-type {\n",
       "        vertical-align: middle;\n",
       "    }\n",
       "\n",
       "    .dataframe tbody tr th {\n",
       "        vertical-align: top;\n",
       "    }\n",
       "\n",
       "    .dataframe thead th {\n",
       "        text-align: right;\n",
       "    }\n",
       "</style>\n",
       "<table border=\"1\" class=\"dataframe\">\n",
       "  <thead>\n",
       "    <tr style=\"text-align: right;\">\n",
       "      <th></th>\n",
       "      <th>directorId</th>\n",
       "      <th>directorName</th>\n",
       "      <th>movie</th>\n",
       "      <th>movieCount</th>\n",
       "      <th>awards</th>\n",
       "      <th>awardsCount</th>\n",
       "      <th>avgRating</th>\n",
       "      <th>totalVotes</th>\n",
       "      <th>totalProduct</th>\n",
       "      <th>moviesWithAwards</th>\n",
       "      <th>moviesWithoutAwards</th>\n",
       "      <th>finalAssessmentValue</th>\n",
       "      <th>awardPercentage</th>\n",
       "    </tr>\n",
       "  </thead>\n",
       "  <tbody>\n",
       "    <tr>\n",
       "      <th>0</th>\n",
       "      <td>nm0001392</td>\n",
       "      <td>Peter Jackson</td>\n",
       "      <td>The Lord of the Rings: The Fellowship of the R...</td>\n",
       "      <td>3</td>\n",
       "      <td>NYFCC Award Best Director 2003, DFWFCA Award B...</td>\n",
       "      <td>270.0</td>\n",
       "      <td>8.900000</td>\n",
       "      <td>5802604</td>\n",
       "      <td>5.164318e+07</td>\n",
       "      <td>3</td>\n",
       "      <td>0</td>\n",
       "      <td>1.549295e+08</td>\n",
       "      <td>100</td>\n",
       "    </tr>\n",
       "    <tr>\n",
       "      <th>1</th>\n",
       "      <td>nm0000631</td>\n",
       "      <td>Ridley Scott</td>\n",
       "      <td>Gladiator,Hannibal,Black Hawk Down,Matchstick Men</td>\n",
       "      <td>4</td>\n",
       "      <td>Bodil Best Non-European Film (Bedste ikke-euro...</td>\n",
       "      <td>137.0</td>\n",
       "      <td>7.575000</td>\n",
       "      <td>2489295</td>\n",
       "      <td>1.885641e+07</td>\n",
       "      <td>4</td>\n",
       "      <td>0</td>\n",
       "      <td>5.656923e+07</td>\n",
       "      <td>100</td>\n",
       "    </tr>\n",
       "    <tr>\n",
       "      <th>2</th>\n",
       "      <td>nm0000229</td>\n",
       "      <td>Steven Spielberg</td>\n",
       "      <td>Minority Report,A.I. Artificial Intelligence,C...</td>\n",
       "      <td>3</td>\n",
       "      <td>Oscar Best Motion Picture of the Year 2012, OF...</td>\n",
       "      <td>382.0</td>\n",
       "      <td>7.633333</td>\n",
       "      <td>2014443</td>\n",
       "      <td>1.537691e+07</td>\n",
       "      <td>3</td>\n",
       "      <td>0</td>\n",
       "      <td>4.613074e+07</td>\n",
       "      <td>100</td>\n",
       "    </tr>\n",
       "    <tr>\n",
       "      <th>3</th>\n",
       "      <td>nm0634240</td>\n",
       "      <td>Christopher Nolan</td>\n",
       "      <td>Memento,Insomnia</td>\n",
       "      <td>2</td>\n",
       "      <td>ACCA Best Director 2001, ACCA Best Original Sc...</td>\n",
       "      <td>358.0</td>\n",
       "      <td>7.800000</td>\n",
       "      <td>1649647</td>\n",
       "      <td>1.286725e+07</td>\n",
       "      <td>2</td>\n",
       "      <td>0</td>\n",
       "      <td>3.860174e+07</td>\n",
       "      <td>100</td>\n",
       "    </tr>\n",
       "    <tr>\n",
       "      <th>4</th>\n",
       "      <td>nm0893659</td>\n",
       "      <td>Gore Verbinski</td>\n",
       "      <td>The Mexican,The Ring,Pirates of the Caribbean:...</td>\n",
       "      <td>3</td>\n",
       "      <td>Oscar Best Animated Feature Film of the Year 2...</td>\n",
       "      <td>21.0</td>\n",
       "      <td>7.100000</td>\n",
       "      <td>1708571</td>\n",
       "      <td>1.213085e+07</td>\n",
       "      <td>3</td>\n",
       "      <td>0</td>\n",
       "      <td>3.639256e+07</td>\n",
       "      <td>100</td>\n",
       "    </tr>\n",
       "  </tbody>\n",
       "</table>\n",
       "</div>"
      ],
      "text/plain": [
       "  directorId       directorName  \\\n",
       "0  nm0001392      Peter Jackson   \n",
       "1  nm0000631       Ridley Scott   \n",
       "2  nm0000229   Steven Spielberg   \n",
       "3  nm0634240  Christopher Nolan   \n",
       "4  nm0893659     Gore Verbinski   \n",
       "\n",
       "                                               movie  movieCount  \\\n",
       "0  The Lord of the Rings: The Fellowship of the R...           3   \n",
       "1  Gladiator,Hannibal,Black Hawk Down,Matchstick Men           4   \n",
       "2  Minority Report,A.I. Artificial Intelligence,C...           3   \n",
       "3                                   Memento,Insomnia           2   \n",
       "4  The Mexican,The Ring,Pirates of the Caribbean:...           3   \n",
       "\n",
       "                                              awards  awardsCount  avgRating  \\\n",
       "0  NYFCC Award Best Director 2003, DFWFCA Award B...        270.0   8.900000   \n",
       "1  Bodil Best Non-European Film (Bedste ikke-euro...        137.0   7.575000   \n",
       "2  Oscar Best Motion Picture of the Year 2012, OF...        382.0   7.633333   \n",
       "3  ACCA Best Director 2001, ACCA Best Original Sc...        358.0   7.800000   \n",
       "4  Oscar Best Animated Feature Film of the Year 2...         21.0   7.100000   \n",
       "\n",
       "   totalVotes  totalProduct  moviesWithAwards  moviesWithoutAwards  \\\n",
       "0     5802604  5.164318e+07                 3                    0   \n",
       "1     2489295  1.885641e+07                 4                    0   \n",
       "2     2014443  1.537691e+07                 3                    0   \n",
       "3     1649647  1.286725e+07                 2                    0   \n",
       "4     1708571  1.213085e+07                 3                    0   \n",
       "\n",
       "   finalAssessmentValue  awardPercentage  \n",
       "0          1.549295e+08              100  \n",
       "1          5.656923e+07              100  \n",
       "2          4.613074e+07              100  \n",
       "3          3.860174e+07              100  \n",
       "4          3.639256e+07              100  "
      ]
     },
     "execution_count": 3,
     "metadata": {},
     "output_type": "execute_result"
    }
   ],
   "source": [
    "df = get_directors_rank(start_year, end_year, sort_by)\n",
    "df.head()"
   ]
  },
  {
   "cell_type": "code",
   "execution_count": null,
   "id": "4cf2ee54-6728-40f2-927f-d41ec5b83736",
   "metadata": {
    "editable": true,
    "slideshow": {
     "slide_type": ""
    },
    "tags": []
   },
   "outputs": [],
   "source": []
  }
 ],
 "metadata": {
  "kernelspec": {
   "display_name": "Python 3 (ipykernel)",
   "language": "python",
   "name": "python3"
  },
  "language_info": {
   "codemirror_mode": {
    "name": "ipython",
    "version": 3
   },
   "file_extension": ".py",
   "mimetype": "text/x-python",
   "name": "python",
   "nbconvert_exporter": "python",
   "pygments_lexer": "ipython3",
   "version": "3.11.1"
  }
 },
 "nbformat": 4,
 "nbformat_minor": 5
}
