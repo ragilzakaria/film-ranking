{
 "cells": [
  {
   "cell_type": "code",
   "id": "742671a1-4275-4f9a-aba7-d48d0111e589",
   "metadata": {
    "ExecuteTime": {
     "end_time": "2024-07-14T10:27:56.565291Z",
     "start_time": "2024-07-14T10:27:55.820979Z"
    }
   },
   "source": [
    "import os\n",
    "import sys\n",
    "import matplotlib.pyplot as plt\n",
    "import sqlite3\n",
    "import pandas as pd\n",
    "\n",
    "%matplotlib inline"
   ],
   "outputs": [],
   "execution_count": 1
  },
  {
   "cell_type": "code",
   "id": "dad99ab1-63cd-46d6-b0fa-b15eeafc0cb7",
   "metadata": {
    "ExecuteTime": {
     "end_time": "2024-07-14T10:28:22.931565Z",
     "start_time": "2024-07-14T10:28:22.928067Z"
    }
   },
   "source": [
    "from film_ranking.lib.analyze import get_movies_with_regional_data, get_cinematic_rank, get_directors_rank, get_producers_rank, get_actors_rank, actors_comparison, directors_comparison, producers_comparison, cinematics_comparison, countries_comparison"
   ],
   "outputs": [],
   "execution_count": 3
  },
  {
   "cell_type": "code",
   "id": "b077ebf2-f483-4390-a06f-f432213f7b90",
   "metadata": {
    "ExecuteTime": {
     "end_time": "2024-07-14T10:29:44.369856Z",
     "start_time": "2024-07-14T10:28:36.066077Z"
    }
   },
   "source": [
    "df = get_movies_with_regional_data(2000, 2020)\n",
    "df.head()"
   ],
   "outputs": [
    {
     "data": {
      "text/plain": [
       "  region      countryName  population  gdp_capita           gdp  numFilms  \\\n",
       "0     ZA    South Africa     44187637     10700.0  4.728077e+11     11804   \n",
       "1     US   United States    298444215     37800.0  1.128119e+13    278765   \n",
       "2     GB  United Kingdom     60609153     27700.0  1.678874e+12     45559   \n",
       "3     JP           Japan    127463611     28200.0  3.594474e+12     17676   \n",
       "4     FI         Finland      5231372     27400.0  1.433396e+11      3143   \n",
       "\n",
       "       votes  avgRating  qualityScore  populationPerFilm    filmPerGdp  \\\n",
       "0  566435216   6.625644  3.752998e+09             3743.0  2.496575e-08   \n",
       "1  275799728   6.845665  1.888033e+09             1070.0  2.471060e-08   \n",
       "2   12478147   7.124744  8.890360e+07             1330.0  2.713665e-08   \n",
       "3   10507731   7.287378  7.657381e+07             7211.0  4.917549e-09   \n",
       "4    7476876   6.432167  4.809251e+07             1664.0  2.192695e-08   \n",
       "\n",
       "     gdpPerFilm  gdpCapitaPerFilm  gdp_rank  weak_cinematic_impact_rank  \\\n",
       "0  4.005487e+07          1.103178        20                           8   \n",
       "1  4.046846e+07          7.374735         1                           1   \n",
       "2  3.685054e+07          1.644729         7                           2   \n",
       "3  2.033534e+08          0.626809         3                           4   \n",
       "4  4.560598e+07          0.114708        48                          17   \n",
       "\n",
       "   strong_cinematic_impact_rank  weak_cinematic_impact_difference  \\\n",
       "0                             1                                12   \n",
       "1                             2                                 0   \n",
       "2                             3                                 5   \n",
       "3                             4                                -1   \n",
       "4                             5                                31   \n",
       "\n",
       "   strong_cinematic_impact_difference  \n",
       "0                                  19  \n",
       "1                                  -1  \n",
       "2                                   4  \n",
       "3                                  -1  \n",
       "4                                  43  "
      ],
      "text/html": [
       "<div>\n",
       "<style scoped>\n",
       "    .dataframe tbody tr th:only-of-type {\n",
       "        vertical-align: middle;\n",
       "    }\n",
       "\n",
       "    .dataframe tbody tr th {\n",
       "        vertical-align: top;\n",
       "    }\n",
       "\n",
       "    .dataframe thead th {\n",
       "        text-align: right;\n",
       "    }\n",
       "</style>\n",
       "<table border=\"1\" class=\"dataframe\">\n",
       "  <thead>\n",
       "    <tr style=\"text-align: right;\">\n",
       "      <th></th>\n",
       "      <th>region</th>\n",
       "      <th>countryName</th>\n",
       "      <th>population</th>\n",
       "      <th>gdp_capita</th>\n",
       "      <th>gdp</th>\n",
       "      <th>numFilms</th>\n",
       "      <th>votes</th>\n",
       "      <th>avgRating</th>\n",
       "      <th>qualityScore</th>\n",
       "      <th>populationPerFilm</th>\n",
       "      <th>filmPerGdp</th>\n",
       "      <th>gdpPerFilm</th>\n",
       "      <th>gdpCapitaPerFilm</th>\n",
       "      <th>gdp_rank</th>\n",
       "      <th>weak_cinematic_impact_rank</th>\n",
       "      <th>strong_cinematic_impact_rank</th>\n",
       "      <th>weak_cinematic_impact_difference</th>\n",
       "      <th>strong_cinematic_impact_difference</th>\n",
       "    </tr>\n",
       "  </thead>\n",
       "  <tbody>\n",
       "    <tr>\n",
       "      <th>0</th>\n",
       "      <td>ZA</td>\n",
       "      <td>South Africa</td>\n",
       "      <td>44187637</td>\n",
       "      <td>10700.0</td>\n",
       "      <td>4.728077e+11</td>\n",
       "      <td>11804</td>\n",
       "      <td>566435216</td>\n",
       "      <td>6.625644</td>\n",
       "      <td>3.752998e+09</td>\n",
       "      <td>3743.0</td>\n",
       "      <td>2.496575e-08</td>\n",
       "      <td>4.005487e+07</td>\n",
       "      <td>1.103178</td>\n",
       "      <td>20</td>\n",
       "      <td>8</td>\n",
       "      <td>1</td>\n",
       "      <td>12</td>\n",
       "      <td>19</td>\n",
       "    </tr>\n",
       "    <tr>\n",
       "      <th>1</th>\n",
       "      <td>US</td>\n",
       "      <td>United States</td>\n",
       "      <td>298444215</td>\n",
       "      <td>37800.0</td>\n",
       "      <td>1.128119e+13</td>\n",
       "      <td>278765</td>\n",
       "      <td>275799728</td>\n",
       "      <td>6.845665</td>\n",
       "      <td>1.888033e+09</td>\n",
       "      <td>1070.0</td>\n",
       "      <td>2.471060e-08</td>\n",
       "      <td>4.046846e+07</td>\n",
       "      <td>7.374735</td>\n",
       "      <td>1</td>\n",
       "      <td>1</td>\n",
       "      <td>2</td>\n",
       "      <td>0</td>\n",
       "      <td>-1</td>\n",
       "    </tr>\n",
       "    <tr>\n",
       "      <th>2</th>\n",
       "      <td>GB</td>\n",
       "      <td>United Kingdom</td>\n",
       "      <td>60609153</td>\n",
       "      <td>27700.0</td>\n",
       "      <td>1.678874e+12</td>\n",
       "      <td>45559</td>\n",
       "      <td>12478147</td>\n",
       "      <td>7.124744</td>\n",
       "      <td>8.890360e+07</td>\n",
       "      <td>1330.0</td>\n",
       "      <td>2.713665e-08</td>\n",
       "      <td>3.685054e+07</td>\n",
       "      <td>1.644729</td>\n",
       "      <td>7</td>\n",
       "      <td>2</td>\n",
       "      <td>3</td>\n",
       "      <td>5</td>\n",
       "      <td>4</td>\n",
       "    </tr>\n",
       "    <tr>\n",
       "      <th>3</th>\n",
       "      <td>JP</td>\n",
       "      <td>Japan</td>\n",
       "      <td>127463611</td>\n",
       "      <td>28200.0</td>\n",
       "      <td>3.594474e+12</td>\n",
       "      <td>17676</td>\n",
       "      <td>10507731</td>\n",
       "      <td>7.287378</td>\n",
       "      <td>7.657381e+07</td>\n",
       "      <td>7211.0</td>\n",
       "      <td>4.917549e-09</td>\n",
       "      <td>2.033534e+08</td>\n",
       "      <td>0.626809</td>\n",
       "      <td>3</td>\n",
       "      <td>4</td>\n",
       "      <td>4</td>\n",
       "      <td>-1</td>\n",
       "      <td>-1</td>\n",
       "    </tr>\n",
       "    <tr>\n",
       "      <th>4</th>\n",
       "      <td>FI</td>\n",
       "      <td>Finland</td>\n",
       "      <td>5231372</td>\n",
       "      <td>27400.0</td>\n",
       "      <td>1.433396e+11</td>\n",
       "      <td>3143</td>\n",
       "      <td>7476876</td>\n",
       "      <td>6.432167</td>\n",
       "      <td>4.809251e+07</td>\n",
       "      <td>1664.0</td>\n",
       "      <td>2.192695e-08</td>\n",
       "      <td>4.560598e+07</td>\n",
       "      <td>0.114708</td>\n",
       "      <td>48</td>\n",
       "      <td>17</td>\n",
       "      <td>5</td>\n",
       "      <td>31</td>\n",
       "      <td>43</td>\n",
       "    </tr>\n",
       "  </tbody>\n",
       "</table>\n",
       "</div>"
      ]
     },
     "execution_count": 4,
     "metadata": {},
     "output_type": "execute_result"
    }
   ],
   "execution_count": 4
  },
  {
   "cell_type": "markdown",
   "id": "6a7cf8b5-c7f0-43de-af0b-0cc6dd6bb7e1",
   "metadata": {},
   "source": []
  },
  {
   "cell_type": "code",
   "id": "f2b21e63-042f-439a-b48d-08a059b3d305",
   "metadata": {},
   "source": [
    "df = get_cinematic_rank(\"movie\", 20, 2000, 2024)\n",
    "df.head()"
   ],
   "outputs": [],
   "execution_count": null
  },
  {
   "cell_type": "code",
   "id": "a88a216b-a35f-4862-b127-304100565682",
   "metadata": {},
   "source": [
    "df = get_directors_rank(\"movie\", 1900, 2024)\n",
    "df.head()"
   ],
   "outputs": [],
   "execution_count": null
  },
  {
   "cell_type": "code",
   "id": "a41c0c45-90af-4c8d-9d06-cb13977a026a",
   "metadata": {},
   "source": [
    "df = get_producers_rank(\"movie\", 1900, 2024)\n",
    "df.head()"
   ],
   "outputs": [],
   "execution_count": null
  },
  {
   "cell_type": "code",
   "id": "be1143ac-a94b-4e33-9664-54f06c6dc6c7",
   "metadata": {},
   "source": [
    "df = get_actors_rank(1900, 2024)\n",
    "df.head()"
   ],
   "outputs": [],
   "execution_count": null
  },
  {
   "cell_type": "code",
   "id": "63f3c942-5d1d-40eb-b02e-9d7bbbaf45d5",
   "metadata": {},
   "source": [],
   "outputs": [],
   "execution_count": null
  }
 ],
 "metadata": {
  "kernelspec": {
   "display_name": "Python 3 (ipykernel)",
   "language": "python",
   "name": "python3"
  },
  "language_info": {
   "codemirror_mode": {
    "name": "ipython",
    "version": 3
   },
   "file_extension": ".py",
   "mimetype": "text/x-python",
   "name": "python",
   "nbconvert_exporter": "python",
   "pygments_lexer": "ipython3",
   "version": "3.11.1"
  }
 },
 "nbformat": 4,
 "nbformat_minor": 5
}
