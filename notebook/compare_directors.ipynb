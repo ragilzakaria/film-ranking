{
 "cells": [
  {
   "cell_type": "code",
   "execution_count": 1,
   "id": "4aad9e09-6391-4a4c-8090-c070168d9ad5",
   "metadata": {
    "editable": true,
    "slideshow": {
     "slide_type": ""
    },
    "tags": [
     "parameters"
    ]
   },
   "outputs": [],
   "source": [
    "directorId1 = \"nm0349785\"\n",
    "directorId2 = \"nm0807236\""
   ]
  },
  {
   "cell_type": "code",
   "execution_count": 2,
   "id": "b832fe23-dc3a-4eab-929f-ea37d696b292",
   "metadata": {
    "editable": true,
    "slideshow": {
     "slide_type": ""
    },
    "tags": []
   },
   "outputs": [],
   "source": [
    "from film_ranking.lib.analyze import directors_comparison"
   ]
  },
  {
   "cell_type": "code",
   "execution_count": 3,
   "id": "9d720d8c-f2de-4586-b6d5-9691b8cf3916",
   "metadata": {
    "editable": true,
    "slideshow": {
     "slide_type": ""
    },
    "tags": []
   },
   "outputs": [
    {
     "data": {
      "text/html": [
       "<div>\n",
       "<style scoped>\n",
       "    .dataframe tbody tr th:only-of-type {\n",
       "        vertical-align: middle;\n",
       "    }\n",
       "\n",
       "    .dataframe tbody tr th {\n",
       "        vertical-align: top;\n",
       "    }\n",
       "\n",
       "    .dataframe thead th {\n",
       "        text-align: right;\n",
       "    }\n",
       "</style>\n",
       "<table border=\"1\" class=\"dataframe\">\n",
       "  <thead>\n",
       "    <tr style=\"text-align: right;\">\n",
       "      <th></th>\n",
       "      <th>0</th>\n",
       "      <th>1</th>\n",
       "    </tr>\n",
       "  </thead>\n",
       "  <tbody>\n",
       "    <tr>\n",
       "      <th>directorId</th>\n",
       "      <td>nm0349785</td>\n",
       "      <td>nm0807236</td>\n",
       "    </tr>\n",
       "    <tr>\n",
       "      <th>directorName</th>\n",
       "      <td>Alice Guy</td>\n",
       "      <td>Albert E. Smith</td>\n",
       "    </tr>\n",
       "    <tr>\n",
       "      <th>movie</th>\n",
       "      <td>Au réfectoire,L'aveugle,Ballet libella,Les cam...</td>\n",
       "      <td>The Clown and the Alchemist,The Humpty Dumpty ...</td>\n",
       "    </tr>\n",
       "    <tr>\n",
       "      <th>movieCount</th>\n",
       "      <td>152</td>\n",
       "      <td>24</td>\n",
       "    </tr>\n",
       "    <tr>\n",
       "      <th>awards</th>\n",
       "      <td>OFTA Film Hall of Fame Creative 2020</td>\n",
       "      <td>None</td>\n",
       "    </tr>\n",
       "    <tr>\n",
       "      <th>awardsCount</th>\n",
       "      <td>1</td>\n",
       "      <td>1</td>\n",
       "    </tr>\n",
       "    <tr>\n",
       "      <th>avgRating</th>\n",
       "      <td>5.2875</td>\n",
       "      <td>4.270833</td>\n",
       "    </tr>\n",
       "    <tr>\n",
       "      <th>totalVotes</th>\n",
       "      <td>20302</td>\n",
       "      <td>2006</td>\n",
       "    </tr>\n",
       "    <tr>\n",
       "      <th>totalProduct</th>\n",
       "      <td>107346.825</td>\n",
       "      <td>8567.291667</td>\n",
       "    </tr>\n",
       "    <tr>\n",
       "      <th>moviesWithAwards</th>\n",
       "      <td>0</td>\n",
       "      <td>0</td>\n",
       "    </tr>\n",
       "    <tr>\n",
       "      <th>moviesWithoutAwards</th>\n",
       "      <td>152</td>\n",
       "      <td>24</td>\n",
       "    </tr>\n",
       "    <tr>\n",
       "      <th>finalAssessmentValue</th>\n",
       "      <td>107346.825</td>\n",
       "      <td>8567.291667</td>\n",
       "    </tr>\n",
       "    <tr>\n",
       "      <th>awardPercentage</th>\n",
       "      <td>0</td>\n",
       "      <td>0</td>\n",
       "    </tr>\n",
       "  </tbody>\n",
       "</table>\n",
       "</div>"
      ],
      "text/plain": [
       "                                                                      0  \\\n",
       "directorId                                                    nm0349785   \n",
       "directorName                                                  Alice Guy   \n",
       "movie                 Au réfectoire,L'aveugle,Ballet libella,Les cam...   \n",
       "movieCount                                                          152   \n",
       "awards                             OFTA Film Hall of Fame Creative 2020   \n",
       "awardsCount                                                           1   \n",
       "avgRating                                                        5.2875   \n",
       "totalVotes                                                        20302   \n",
       "totalProduct                                                 107346.825   \n",
       "moviesWithAwards                                                      0   \n",
       "moviesWithoutAwards                                                 152   \n",
       "finalAssessmentValue                                         107346.825   \n",
       "awardPercentage                                                       0   \n",
       "\n",
       "                                                                      1  \n",
       "directorId                                                    nm0807236  \n",
       "directorName                                            Albert E. Smith  \n",
       "movie                 The Clown and the Alchemist,The Humpty Dumpty ...  \n",
       "movieCount                                                           24  \n",
       "awards                                                             None  \n",
       "awardsCount                                                           1  \n",
       "avgRating                                                      4.270833  \n",
       "totalVotes                                                         2006  \n",
       "totalProduct                                                8567.291667  \n",
       "moviesWithAwards                                                      0  \n",
       "moviesWithoutAwards                                                  24  \n",
       "finalAssessmentValue                                        8567.291667  \n",
       "awardPercentage                                                       0  "
      ]
     },
     "execution_count": 3,
     "metadata": {},
     "output_type": "execute_result"
    }
   ],
   "source": [
    "df = directors_comparison(directorId1, directorId2)\n",
    "df.T"
   ]
  },
  {
   "cell_type": "code",
   "execution_count": null,
   "id": "a6039c95-7bff-4122-ad21-23d1088b267c",
   "metadata": {},
   "outputs": [],
   "source": []
  }
 ],
 "metadata": {
  "kernelspec": {
   "display_name": "Python 3 (ipykernel)",
   "language": "python",
   "name": "python3"
  },
  "language_info": {
   "codemirror_mode": {
    "name": "ipython",
    "version": 3
   },
   "file_extension": ".py",
   "mimetype": "text/x-python",
   "name": "python",
   "nbconvert_exporter": "python",
   "pygments_lexer": "ipython3",
   "version": "3.11.1"
  }
 },
 "nbformat": 4,
 "nbformat_minor": 5
}
