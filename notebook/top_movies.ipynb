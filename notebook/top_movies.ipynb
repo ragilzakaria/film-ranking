{
 "cells": [
  {
   "cell_type": "code",
   "execution_count": 1,
   "id": "dcbf62cd-2a2f-4fcd-a420-e99951715bdd",
   "metadata": {
    "editable": true,
    "slideshow": {
     "slide_type": ""
    },
    "tags": [
     "parameters"
    ]
   },
   "outputs": [],
   "source": [
    "start_year = 1900\n",
    "end_year = 2000\n",
    "limit = 15\n",
    "mtype = \"tvSeries\"\n",
    "genre = \"thriller\"\n",
    "country = \"NL\"\n",
    "sort_by = \"product\""
   ]
  },
  {
   "cell_type": "code",
   "execution_count": 2,
   "id": "46606e89-1223-49ef-a997-352880784828",
   "metadata": {},
   "outputs": [],
   "source": [
    "from film_ranking.lib.analyze import get_cinematic_rank"
   ]
  },
  {
   "cell_type": "code",
   "execution_count": null,
   "id": "8260aa64-9207-43e3-b0af-5292e01d03c1",
   "metadata": {},
   "outputs": [],
   "source": [
    "import pandas as pd\n",
    "# Display all rows and columns\n",
    "pd.set_option('display.max_rows', None)\n",
    "pd.set_option('display.max_columns', None)"
   ]
  },
  {
   "cell_type": "code",
   "execution_count": 3,
   "id": "3c40607e-ec3d-4464-bb8a-4b0c17c05d8c",
   "metadata": {},
   "outputs": [
    {
     "data": {
      "text/html": [
       "<div>\n",
       "<style scoped>\n",
       "    .dataframe tbody tr th:only-of-type {\n",
       "        vertical-align: middle;\n",
       "    }\n",
       "\n",
       "    .dataframe tbody tr th {\n",
       "        vertical-align: top;\n",
       "    }\n",
       "\n",
       "    .dataframe thead th {\n",
       "        text-align: right;\n",
       "    }\n",
       "</style>\n",
       "<table border=\"1\" class=\"dataframe\">\n",
       "  <thead>\n",
       "    <tr style=\"text-align: right;\">\n",
       "      <th></th>\n",
       "      <th>titleId</th>\n",
       "      <th>primaryTitle</th>\n",
       "      <th>region</th>\n",
       "      <th>numVotes</th>\n",
       "      <th>averageRating</th>\n",
       "      <th>product</th>\n",
       "      <th>awards</th>\n",
       "      <th>awards_count</th>\n",
       "    </tr>\n",
       "  </thead>\n",
       "  <tbody>\n",
       "    <tr>\n",
       "      <th>0</th>\n",
       "      <td>tt0108771</td>\n",
       "      <td>The Fast Show</td>\n",
       "      <td>NL</td>\n",
       "      <td>5260</td>\n",
       "      <td>8.2</td>\n",
       "      <td>43132.0</td>\n",
       "      <td>British Comedy Award Best Comedy Series 1996, ...</td>\n",
       "      <td>8.0</td>\n",
       "    </tr>\n",
       "    <tr>\n",
       "      <th>1</th>\n",
       "      <td>tt0119873</td>\n",
       "      <td>Warriors</td>\n",
       "      <td>NL</td>\n",
       "      <td>2584</td>\n",
       "      <td>8.2</td>\n",
       "      <td>21188.8</td>\n",
       "      <td>Prix Italia Fiction - Serial 2000, Broadcastin...</td>\n",
       "      <td>16.0</td>\n",
       "    </tr>\n",
       "    <tr>\n",
       "      <th>2</th>\n",
       "      <td>tt0105999</td>\n",
       "      <td>Flodder</td>\n",
       "      <td>NL</td>\n",
       "      <td>1876</td>\n",
       "      <td>6.8</td>\n",
       "      <td>12756.8</td>\n",
       "      <td>Gouden Beeld Best Actress in a Comedy (Actrice...</td>\n",
       "      <td>2.0</td>\n",
       "    </tr>\n",
       "    <tr>\n",
       "      <th>3</th>\n",
       "      <td>tt0073995</td>\n",
       "      <td>George &amp; Mildred</td>\n",
       "      <td>NL</td>\n",
       "      <td>1733</td>\n",
       "      <td>7.2</td>\n",
       "      <td>12477.6</td>\n",
       "      <td>None</td>\n",
       "      <td>NaN</td>\n",
       "    </tr>\n",
       "    <tr>\n",
       "      <th>4</th>\n",
       "      <td>tt0457544</td>\n",
       "      <td>Wie is de Mol?</td>\n",
       "      <td>NL</td>\n",
       "      <td>1238</td>\n",
       "      <td>8.4</td>\n",
       "      <td>10399.2</td>\n",
       "      <td>Gouden Beeld Game Show/Quiz (Spelshow/Quiz) 20...</td>\n",
       "      <td>11.0</td>\n",
       "    </tr>\n",
       "  </tbody>\n",
       "</table>\n",
       "</div>"
      ],
      "text/plain": [
       "     titleId      primaryTitle region  numVotes  averageRating  product  \\\n",
       "0  tt0108771     The Fast Show     NL      5260            8.2  43132.0   \n",
       "1  tt0119873          Warriors     NL      2584            8.2  21188.8   \n",
       "2  tt0105999           Flodder     NL      1876            6.8  12756.8   \n",
       "3  tt0073995  George & Mildred     NL      1733            7.2  12477.6   \n",
       "4  tt0457544    Wie is de Mol?     NL      1238            8.4  10399.2   \n",
       "\n",
       "                                              awards  awards_count  \n",
       "0  British Comedy Award Best Comedy Series 1996, ...           8.0  \n",
       "1  Prix Italia Fiction - Serial 2000, Broadcastin...          16.0  \n",
       "2  Gouden Beeld Best Actress in a Comedy (Actrice...           2.0  \n",
       "3                                               None           NaN  \n",
       "4  Gouden Beeld Game Show/Quiz (Spelshow/Quiz) 20...          11.0  "
      ]
     },
     "execution_count": 3,
     "metadata": {},
     "output_type": "execute_result"
    }
   ],
   "source": [
    "df = get_cinematic_rank(start_year, end_year, limit=limit, mtype=mtype, country=country, sort_by=sort_by)"
   ]
  },
  {
   "cell_type": "code",
   "execution_count": null,
   "id": "7e29b1dd-da81-4689-95f2-a56e756650b7",
   "metadata": {},
   "outputs": [],
   "source": [
    "df.head(int(limit))"
   ]
  }
 ],
 "metadata": {
  "kernelspec": {
   "display_name": "Python 3 (ipykernel)",
   "language": "python",
   "name": "python3"
  },
  "language_info": {
   "codemirror_mode": {
    "name": "ipython",
    "version": 3
   },
   "file_extension": ".py",
   "mimetype": "text/x-python",
   "name": "python",
   "nbconvert_exporter": "python",
   "pygments_lexer": "ipython3",
   "version": "3.11.1"
  }
 },
 "nbformat": 4,
 "nbformat_minor": 5
}
