{
 "cells": [
  {
   "cell_type": "code",
   "execution_count": 1,
   "id": "62c70dc1-093d-41ef-8711-dc422eb3c81a",
   "metadata": {
    "editable": true,
    "slideshow": {
     "slide_type": ""
    },
    "tags": [
     "parameters"
    ]
   },
   "outputs": [],
   "source": [
    "keyword = \"Captain America\"\n",
    "limit = 1000"
   ]
  },
  {
   "cell_type": "code",
   "execution_count": 2,
   "id": "7a909446-b0fa-415b-a25c-8c426f648bc9",
   "metadata": {},
   "outputs": [],
   "source": [
    "from film_ranking.lib.analyze import search_movie"
   ]
  },
  {
   "cell_type": "code",
   "execution_count": 3,
   "id": "31895e45-768e-4c9b-a481-c185636936fa",
   "metadata": {
    "editable": true,
    "slideshow": {
     "slide_type": ""
    },
    "tags": []
   },
   "outputs": [
    {
     "data": {
      "text/html": [
       "<div>\n",
       "<style scoped>\n",
       "    .dataframe tbody tr th:only-of-type {\n",
       "        vertical-align: middle;\n",
       "    }\n",
       "\n",
       "    .dataframe tbody tr th {\n",
       "        vertical-align: top;\n",
       "    }\n",
       "\n",
       "    .dataframe thead th {\n",
       "        text-align: right;\n",
       "    }\n",
       "</style>\n",
       "<table border=\"1\" class=\"dataframe\">\n",
       "  <thead>\n",
       "    <tr style=\"text-align: right;\">\n",
       "      <th></th>\n",
       "      <th>tconst</th>\n",
       "      <th>originalTitle</th>\n",
       "      <th>startYear</th>\n",
       "      <th>GROUP_CONCAT(DISTINCT (nb.primaryName))</th>\n",
       "    </tr>\n",
       "  </thead>\n",
       "  <tbody>\n",
       "    <tr>\n",
       "      <th>0</th>\n",
       "      <td>tt0036697</td>\n",
       "      <td>Captain America</td>\n",
       "      <td>1944</td>\n",
       "      <td>Dick Purcell,Lorna Gray,Lionel Atwill,Charles ...</td>\n",
       "    </tr>\n",
       "    <tr>\n",
       "      <th>1</th>\n",
       "      <td>tt0078937</td>\n",
       "      <td>Captain America</td>\n",
       "      <td>1979</td>\n",
       "      <td>Reb Brown,Len Birman,Heather Menzies-Urich,Rob...</td>\n",
       "    </tr>\n",
       "    <tr>\n",
       "      <th>2</th>\n",
       "      <td>tt0103923</td>\n",
       "      <td>Captain America</td>\n",
       "      <td>1990</td>\n",
       "      <td>Matt Salinger,Ronny Cox,Ned Beatty,Darren McGa...</td>\n",
       "    </tr>\n",
       "    <tr>\n",
       "      <th>3</th>\n",
       "      <td>tt0206474</td>\n",
       "      <td>Captain America</td>\n",
       "      <td>1966</td>\n",
       "      <td>Bernard Cowan,Don Mason,Jack Creley,Claude Rae...</td>\n",
       "    </tr>\n",
       "    <tr>\n",
       "      <th>4</th>\n",
       "      <td>tt0846633</td>\n",
       "      <td>Captain America</td>\n",
       "      <td>2001</td>\n",
       "      <td>Jim Barton,Rich Koz,Doug Scharf</td>\n",
       "    </tr>\n",
       "    <tr>\n",
       "      <th>5</th>\n",
       "      <td>tt12476716</td>\n",
       "      <td>Captain America</td>\n",
       "      <td>\\N</td>\n",
       "      <td>Dirk Ellis</td>\n",
       "    </tr>\n",
       "    <tr>\n",
       "      <th>6</th>\n",
       "      <td>tt12698012</td>\n",
       "      <td>Captain America</td>\n",
       "      <td>2013</td>\n",
       "      <td>Emer Prevost</td>\n",
       "    </tr>\n",
       "    <tr>\n",
       "      <th>7</th>\n",
       "      <td>tt14202756</td>\n",
       "      <td>Captain America</td>\n",
       "      <td>2011</td>\n",
       "      <td>Leslie Rice,Winston O'Boogie</td>\n",
       "    </tr>\n",
       "    <tr>\n",
       "      <th>8</th>\n",
       "      <td>tt15121408</td>\n",
       "      <td>Captain America</td>\n",
       "      <td>2019</td>\n",
       "      <td>Jesse Zuretti</td>\n",
       "    </tr>\n",
       "    <tr>\n",
       "      <th>9</th>\n",
       "      <td>tt1644151</td>\n",
       "      <td>Captain America</td>\n",
       "      <td>2009</td>\n",
       "      <td>Doug Walker,Rob Walker</td>\n",
       "    </tr>\n",
       "  </tbody>\n",
       "</table>\n",
       "</div>"
      ],
      "text/plain": [
       "       tconst    originalTitle startYear  \\\n",
       "0   tt0036697  Captain America      1944   \n",
       "1   tt0078937  Captain America      1979   \n",
       "2   tt0103923  Captain America      1990   \n",
       "3   tt0206474  Captain America      1966   \n",
       "4   tt0846633  Captain America      2001   \n",
       "5  tt12476716  Captain America        \\N   \n",
       "6  tt12698012  Captain America      2013   \n",
       "7  tt14202756  Captain America      2011   \n",
       "8  tt15121408  Captain America      2019   \n",
       "9   tt1644151  Captain America      2009   \n",
       "\n",
       "             GROUP_CONCAT(DISTINCT (nb.primaryName))  \n",
       "0  Dick Purcell,Lorna Gray,Lionel Atwill,Charles ...  \n",
       "1  Reb Brown,Len Birman,Heather Menzies-Urich,Rob...  \n",
       "2  Matt Salinger,Ronny Cox,Ned Beatty,Darren McGa...  \n",
       "3  Bernard Cowan,Don Mason,Jack Creley,Claude Rae...  \n",
       "4                    Jim Barton,Rich Koz,Doug Scharf  \n",
       "5                                         Dirk Ellis  \n",
       "6                                       Emer Prevost  \n",
       "7                       Leslie Rice,Winston O'Boogie  \n",
       "8                                      Jesse Zuretti  \n",
       "9                             Doug Walker,Rob Walker  "
      ]
     },
     "execution_count": 3,
     "metadata": {},
     "output_type": "execute_result"
    }
   ],
   "source": [
    "search_movie(\"Captain America\", limit)"
   ]
  },
  {
   "cell_type": "code",
   "execution_count": null,
   "id": "f9cb823e-3142-4bd7-8d50-0c12225fcb20",
   "metadata": {},
   "outputs": [],
   "source": []
  }
 ],
 "metadata": {
  "kernelspec": {
   "display_name": "Python 3 (ipykernel)",
   "language": "python",
   "name": "python3"
  },
  "language_info": {
   "codemirror_mode": {
    "name": "ipython",
    "version": 3
   },
   "file_extension": ".py",
   "mimetype": "text/x-python",
   "name": "python",
   "nbconvert_exporter": "python",
   "pygments_lexer": "ipython3",
   "version": "3.11.1"
  }
 },
 "nbformat": 4,
 "nbformat_minor": 5
}
