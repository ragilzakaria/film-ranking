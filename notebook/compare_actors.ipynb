{
 "cells": [
  {
   "cell_type": "code",
   "execution_count": 1,
   "id": "c6bb240a-0160-4ada-8dc1-0e5459b0f754",
   "metadata": {
    "editable": true,
    "slideshow": {
     "slide_type": ""
    },
    "tags": [
     "parameters"
    ]
   },
   "outputs": [],
   "source": [
    "actorId1 = \"nm0642722\"\n",
    "actorId2 = \"nm0653042\""
   ]
  },
  {
   "cell_type": "code",
   "execution_count": 2,
   "id": "b5c53a9b-511f-4654-ad5d-2727b2131cd5",
   "metadata": {},
   "outputs": [],
   "source": [
    "from film_ranking.lib.analyze import actors_comparison"
   ]
  },
  {
   "cell_type": "code",
   "execution_count": 3,
   "id": "1942032b-bf17-4b02-8d52-56a80a8b30bb",
   "metadata": {},
   "outputs": [
    {
     "data": {
      "text/html": [
       "<div>\n",
       "<style scoped>\n",
       "    .dataframe tbody tr th:only-of-type {\n",
       "        vertical-align: middle;\n",
       "    }\n",
       "\n",
       "    .dataframe tbody tr th {\n",
       "        vertical-align: top;\n",
       "    }\n",
       "\n",
       "    .dataframe thead th {\n",
       "        text-align: right;\n",
       "    }\n",
       "</style>\n",
       "<table border=\"1\" class=\"dataframe\">\n",
       "  <thead>\n",
       "    <tr style=\"text-align: right;\">\n",
       "      <th></th>\n",
       "      <th>0</th>\n",
       "      <th>1</th>\n",
       "    </tr>\n",
       "  </thead>\n",
       "  <tbody>\n",
       "    <tr>\n",
       "      <th>actorId</th>\n",
       "      <td>nm0642722</td>\n",
       "      <td>nm0653042</td>\n",
       "    </tr>\n",
       "    <tr>\n",
       "      <th>actorName</th>\n",
       "      <td>Anthony O'Sullivan</td>\n",
       "      <td>John Ott</td>\n",
       "    </tr>\n",
       "    <tr>\n",
       "      <th>movies</th>\n",
       "      <td>'Ostler Joe,At the Crossroads of Life,The Blac...</td>\n",
       "      <td>Blacksmith Scene</td>\n",
       "    </tr>\n",
       "    <tr>\n",
       "      <th>movieCount</th>\n",
       "      <td>81</td>\n",
       "      <td>1</td>\n",
       "    </tr>\n",
       "    <tr>\n",
       "      <th>awards</th>\n",
       "      <td>None</td>\n",
       "      <td>None</td>\n",
       "    </tr>\n",
       "    <tr>\n",
       "      <th>awardsCount</th>\n",
       "      <td>None</td>\n",
       "      <td>None</td>\n",
       "    </tr>\n",
       "    <tr>\n",
       "      <th>avgRating</th>\n",
       "      <td>5.28642</td>\n",
       "      <td>6.2</td>\n",
       "    </tr>\n",
       "    <tr>\n",
       "      <th>totalVotes</th>\n",
       "      <td>6498</td>\n",
       "      <td>2788</td>\n",
       "    </tr>\n",
       "    <tr>\n",
       "      <th>totalProduct</th>\n",
       "      <td>34351.155556</td>\n",
       "      <td>17285.6</td>\n",
       "    </tr>\n",
       "    <tr>\n",
       "      <th>regions</th>\n",
       "      <td>US</td>\n",
       "      <td>US</td>\n",
       "    </tr>\n",
       "    <tr>\n",
       "      <th>countryCount</th>\n",
       "      <td>1</td>\n",
       "      <td>1</td>\n",
       "    </tr>\n",
       "  </tbody>\n",
       "</table>\n",
       "</div>"
      ],
      "text/plain": [
       "                                                              0  \\\n",
       "actorId                                               nm0642722   \n",
       "actorName                                    Anthony O'Sullivan   \n",
       "movies        'Ostler Joe,At the Crossroads of Life,The Blac...   \n",
       "movieCount                                                   81   \n",
       "awards                                                     None   \n",
       "awardsCount                                                None   \n",
       "avgRating                                               5.28642   \n",
       "totalVotes                                                 6498   \n",
       "totalProduct                                       34351.155556   \n",
       "regions                                                      US   \n",
       "countryCount                                                  1   \n",
       "\n",
       "                             1  \n",
       "actorId              nm0653042  \n",
       "actorName             John Ott  \n",
       "movies        Blacksmith Scene  \n",
       "movieCount                   1  \n",
       "awards                    None  \n",
       "awardsCount               None  \n",
       "avgRating                  6.2  \n",
       "totalVotes                2788  \n",
       "totalProduct           17285.6  \n",
       "regions                     US  \n",
       "countryCount                 1  "
      ]
     },
     "execution_count": 3,
     "metadata": {},
     "output_type": "execute_result"
    }
   ],
   "source": [
    "df = actors_comparison(actorId1, actorId2)\n",
    "df.T"
   ]
  },
  {
   "cell_type": "code",
   "execution_count": null,
   "id": "48ace211-bed2-40cb-9b8e-f2f875c19cef",
   "metadata": {},
   "outputs": [],
   "source": []
  }
 ],
 "metadata": {
  "kernelspec": {
   "display_name": "Python 3 (ipykernel)",
   "language": "python",
   "name": "python3"
  },
  "language_info": {
   "codemirror_mode": {
    "name": "ipython",
    "version": 3
   },
   "file_extension": ".py",
   "mimetype": "text/x-python",
   "name": "python",
   "nbconvert_exporter": "python",
   "pygments_lexer": "ipython3",
   "version": "3.11.1"
  }
 },
 "nbformat": 4,
 "nbformat_minor": 5
}
