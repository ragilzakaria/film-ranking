{
 "cells": [
  {
   "cell_type": "code",
   "execution_count": 18,
   "id": "290d2439073cf144",
   "metadata": {
    "editable": true,
    "slideshow": {
     "slide_type": ""
    },
    "tags": [
     "parameters"
    ]
   },
   "outputs": [],
   "source": [
    "start_year = 2000\n",
    "end_year = 2003"
   ]
  },
  {
   "cell_type": "code",
   "execution_count": 19,
   "id": "cae4030ac2e66593",
   "metadata": {
    "editable": true,
    "slideshow": {
     "slide_type": ""
    },
    "tags": []
   },
   "outputs": [],
   "source": [
    "%matplotlib inline"
   ]
  },
  {
   "cell_type": "code",
   "execution_count": 20,
   "id": "55e2a602e6fab92f",
   "metadata": {
    "editable": true,
    "slideshow": {
     "slide_type": ""
    },
    "tags": []
   },
   "outputs": [],
   "source": [
    "from film_ranking.lib.analyze import get_movies_with_regional_data"
   ]
  },
  {
   "cell_type": "code",
   "execution_count": 21,
   "id": "79371e56aa0acd6a",
   "metadata": {
    "editable": true,
    "slideshow": {
     "slide_type": ""
    },
    "tags": []
   },
   "outputs": [],
   "source": [
    "df = get_movies_with_regional_data(start_year, end_year)"
   ]
  },
  {
   "cell_type": "code",
   "execution_count": 17,
   "id": "932fa65e-091e-446c-80c3-d894a5e7d888",
   "metadata": {
    "editable": true,
    "slideshow": {
     "slide_type": ""
    },
    "tags": []
   },
   "outputs": [
    {
     "data": {
      "text/html": [
       "<div>\n",
       "<style scoped>\n",
       "    .dataframe tbody tr th:only-of-type {\n",
       "        vertical-align: middle;\n",
       "    }\n",
       "\n",
       "    .dataframe tbody tr th {\n",
       "        vertical-align: top;\n",
       "    }\n",
       "\n",
       "    .dataframe thead th {\n",
       "        text-align: right;\n",
       "    }\n",
       "</style>\n",
       "<table border=\"1\" class=\"dataframe\">\n",
       "  <thead>\n",
       "    <tr style=\"text-align: right;\">\n",
       "      <th></th>\n",
       "      <th>region</th>\n",
       "      <th>countryName</th>\n",
       "      <th>population</th>\n",
       "      <th>gdp_capita</th>\n",
       "      <th>gdp</th>\n",
       "      <th>numFilms</th>\n",
       "      <th>votes</th>\n",
       "      <th>avgRating</th>\n",
       "      <th>qualityScore</th>\n",
       "      <th>populationPerFilm</th>\n",
       "      <th>filmPerGdp</th>\n",
       "      <th>gdpPerFilm</th>\n",
       "      <th>gdpCapitaPerFilm</th>\n",
       "      <th>gdp_rank</th>\n",
       "      <th>weak_cinematic_impact_rank</th>\n",
       "      <th>strong_cinematic_impact_rank</th>\n",
       "      <th>weak_cinematic_impact_difference</th>\n",
       "      <th>strong_cinematic_impact_difference</th>\n",
       "    </tr>\n",
       "  </thead>\n",
       "  <tbody>\n",
       "    <tr>\n",
       "      <th>0</th>\n",
       "      <td>ZA</td>\n",
       "      <td>South Africa</td>\n",
       "      <td>44187637</td>\n",
       "      <td>10700.0</td>\n",
       "      <td>4.728077e+11</td>\n",
       "      <td>683</td>\n",
       "      <td>58827443</td>\n",
       "      <td>6.608346</td>\n",
       "      <td>3.887521e+08</td>\n",
       "      <td>64696.0</td>\n",
       "      <td>1.444562e-09</td>\n",
       "      <td>6.922514e+08</td>\n",
       "      <td>0.063832</td>\n",
       "      <td>20</td>\n",
       "      <td>9</td>\n",
       "      <td>1</td>\n",
       "      <td>11</td>\n",
       "      <td>19</td>\n",
       "    </tr>\n",
       "    <tr>\n",
       "      <th>1</th>\n",
       "      <td>US</td>\n",
       "      <td>United States</td>\n",
       "      <td>298444215</td>\n",
       "      <td>37800.0</td>\n",
       "      <td>1.128119e+13</td>\n",
       "      <td>21908</td>\n",
       "      <td>23518552</td>\n",
       "      <td>6.785425</td>\n",
       "      <td>1.595834e+08</td>\n",
       "      <td>13622.0</td>\n",
       "      <td>1.941993e-09</td>\n",
       "      <td>5.149348e+08</td>\n",
       "      <td>0.579577</td>\n",
       "      <td>1</td>\n",
       "      <td>1</td>\n",
       "      <td>2</td>\n",
       "      <td>0</td>\n",
       "      <td>-1</td>\n",
       "    </tr>\n",
       "    <tr>\n",
       "      <th>2</th>\n",
       "      <td>ES</td>\n",
       "      <td>Spain</td>\n",
       "      <td>40397842</td>\n",
       "      <td>22000.0</td>\n",
       "      <td>8.887525e+11</td>\n",
       "      <td>496</td>\n",
       "      <td>1349547</td>\n",
       "      <td>6.123185</td>\n",
       "      <td>8.263527e+06</td>\n",
       "      <td>81447.0</td>\n",
       "      <td>5.580856e-10</td>\n",
       "      <td>1.791840e+09</td>\n",
       "      <td>0.022545</td>\n",
       "      <td>13</td>\n",
       "      <td>11</td>\n",
       "      <td>3</td>\n",
       "      <td>2</td>\n",
       "      <td>10</td>\n",
       "    </tr>\n",
       "    <tr>\n",
       "      <th>3</th>\n",
       "      <td>FI</td>\n",
       "      <td>Finland</td>\n",
       "      <td>5231372</td>\n",
       "      <td>27400.0</td>\n",
       "      <td>1.433396e+11</td>\n",
       "      <td>218</td>\n",
       "      <td>737310</td>\n",
       "      <td>6.537156</td>\n",
       "      <td>4.819910e+06</td>\n",
       "      <td>23997.0</td>\n",
       "      <td>1.520864e-09</td>\n",
       "      <td>6.575211e+08</td>\n",
       "      <td>0.007956</td>\n",
       "      <td>48</td>\n",
       "      <td>17</td>\n",
       "      <td>4</td>\n",
       "      <td>31</td>\n",
       "      <td>44</td>\n",
       "    </tr>\n",
       "    <tr>\n",
       "      <th>4</th>\n",
       "      <td>JP</td>\n",
       "      <td>Japan</td>\n",
       "      <td>127463611</td>\n",
       "      <td>28200.0</td>\n",
       "      <td>3.594474e+12</td>\n",
       "      <td>2482</td>\n",
       "      <td>574431</td>\n",
       "      <td>7.286704</td>\n",
       "      <td>4.185709e+06</td>\n",
       "      <td>51355.0</td>\n",
       "      <td>6.905044e-10</td>\n",
       "      <td>1.448217e+09</td>\n",
       "      <td>0.088014</td>\n",
       "      <td>3</td>\n",
       "      <td>3</td>\n",
       "      <td>5</td>\n",
       "      <td>0</td>\n",
       "      <td>-2</td>\n",
       "    </tr>\n",
       "  </tbody>\n",
       "</table>\n",
       "</div>"
      ],
      "text/plain": [
       "  region     countryName  population  gdp_capita           gdp  numFilms  \\\n",
       "0     ZA   South Africa     44187637     10700.0  4.728077e+11       683   \n",
       "1     US  United States    298444215     37800.0  1.128119e+13     21908   \n",
       "2     ES          Spain     40397842     22000.0  8.887525e+11       496   \n",
       "3     FI        Finland      5231372     27400.0  1.433396e+11       218   \n",
       "4     JP          Japan    127463611     28200.0  3.594474e+12      2482   \n",
       "\n",
       "      votes  avgRating  qualityScore  populationPerFilm    filmPerGdp  \\\n",
       "0  58827443   6.608346  3.887521e+08            64696.0  1.444562e-09   \n",
       "1  23518552   6.785425  1.595834e+08            13622.0  1.941993e-09   \n",
       "2   1349547   6.123185  8.263527e+06            81447.0  5.580856e-10   \n",
       "3    737310   6.537156  4.819910e+06            23997.0  1.520864e-09   \n",
       "4    574431   7.286704  4.185709e+06            51355.0  6.905044e-10   \n",
       "\n",
       "     gdpPerFilm  gdpCapitaPerFilm  gdp_rank  weak_cinematic_impact_rank  \\\n",
       "0  6.922514e+08          0.063832        20                           9   \n",
       "1  5.149348e+08          0.579577         1                           1   \n",
       "2  1.791840e+09          0.022545        13                          11   \n",
       "3  6.575211e+08          0.007956        48                          17   \n",
       "4  1.448217e+09          0.088014         3                           3   \n",
       "\n",
       "   strong_cinematic_impact_rank  weak_cinematic_impact_difference  \\\n",
       "0                             1                                11   \n",
       "1                             2                                 0   \n",
       "2                             3                                 2   \n",
       "3                             4                                31   \n",
       "4                             5                                 0   \n",
       "\n",
       "   strong_cinematic_impact_difference  \n",
       "0                                  19  \n",
       "1                                  -1  \n",
       "2                                  10  \n",
       "3                                  44  \n",
       "4                                  -2  "
      ]
     },
     "execution_count": 17,
     "metadata": {},
     "output_type": "execute_result"
    }
   ],
   "source": [
    "df.head()"
   ]
  },
  {
   "cell_type": "code",
   "execution_count": null,
   "id": "2f482d61-576d-43de-8106-537dac8ac2f6",
   "metadata": {
    "editable": true,
    "slideshow": {
     "slide_type": ""
    },
    "tags": []
   },
   "outputs": [],
   "source": []
  }
 ],
 "metadata": {
  "kernelspec": {
   "display_name": "Python 3 (ipykernel)",
   "language": "python",
   "name": "python3"
  },
  "language_info": {
   "codemirror_mode": {
    "name": "ipython",
    "version": 3
   },
   "file_extension": ".py",
   "mimetype": "text/x-python",
   "name": "python",
   "nbconvert_exporter": "python",
   "pygments_lexer": "ipython3",
   "version": "3.11.1"
  }
 },
 "nbformat": 4,
 "nbformat_minor": 5
}
