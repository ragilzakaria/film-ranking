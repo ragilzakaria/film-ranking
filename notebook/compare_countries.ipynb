{
 "cells": [
  {
   "cell_type": "code",
   "execution_count": 1,
   "id": "b61c5087-bead-4cb9-b37a-5ae9a5a523c9",
   "metadata": {
    "editable": true,
    "slideshow": {
     "slide_type": ""
    },
    "tags": [
     "parameters"
    ]
   },
   "outputs": [],
   "source": [
    "country1 = \"US\"\n",
    "country2 = \"GB\""
   ]
  },
  {
   "cell_type": "code",
   "execution_count": 2,
   "id": "7e2f2a51-055e-49ee-ba29-61df4ba4ff55",
   "metadata": {},
   "outputs": [],
   "source": [
    "from film_ranking.lib.analyze import countries_comparison"
   ]
  },
  {
   "cell_type": "code",
   "execution_count": 3,
   "id": "77777d0c-9eae-492e-b569-cac304a8b819",
   "metadata": {},
   "outputs": [],
   "source": [
    "df = countries_comparison(country1, country2)"
   ]
  },
  {
   "cell_type": "code",
   "execution_count": 4,
   "id": "a2da294b-f6e0-4a4a-b2bc-00a51f38894c",
   "metadata": {},
   "outputs": [
    {
     "data": {
      "text/html": [
       "<div>\n",
       "<style scoped>\n",
       "    .dataframe tbody tr th:only-of-type {\n",
       "        vertical-align: middle;\n",
       "    }\n",
       "\n",
       "    .dataframe tbody tr th {\n",
       "        vertical-align: top;\n",
       "    }\n",
       "\n",
       "    .dataframe thead th {\n",
       "        text-align: right;\n",
       "    }\n",
       "</style>\n",
       "<table border=\"1\" class=\"dataframe\">\n",
       "  <thead>\n",
       "    <tr style=\"text-align: right;\">\n",
       "      <th></th>\n",
       "      <th>0</th>\n",
       "      <th>1</th>\n",
       "    </tr>\n",
       "  </thead>\n",
       "  <tbody>\n",
       "    <tr>\n",
       "      <th>region</th>\n",
       "      <td>US</td>\n",
       "      <td>GB</td>\n",
       "    </tr>\n",
       "    <tr>\n",
       "      <th>countryName</th>\n",
       "      <td>United States</td>\n",
       "      <td>United Kingdom</td>\n",
       "    </tr>\n",
       "    <tr>\n",
       "      <th>population</th>\n",
       "      <td>298444215</td>\n",
       "      <td>60609153</td>\n",
       "    </tr>\n",
       "    <tr>\n",
       "      <th>gdp_capita</th>\n",
       "      <td>37800.0</td>\n",
       "      <td>27700.0</td>\n",
       "    </tr>\n",
       "    <tr>\n",
       "      <th>gdp</th>\n",
       "      <td>11281191327000.0</td>\n",
       "      <td>1678873538100.0</td>\n",
       "    </tr>\n",
       "    <tr>\n",
       "      <th>numFilms</th>\n",
       "      <td>493807</td>\n",
       "      <td>76671</td>\n",
       "    </tr>\n",
       "    <tr>\n",
       "      <th>votes</th>\n",
       "      <td>471757971</td>\n",
       "      <td>19222468</td>\n",
       "    </tr>\n",
       "    <tr>\n",
       "      <th>avgRating</th>\n",
       "      <td>6.752134</td>\n",
       "      <td>7.116521</td>\n",
       "    </tr>\n",
       "    <tr>\n",
       "      <th>qualityScore</th>\n",
       "      <td>3185373098.681303</td>\n",
       "      <td>136797101.809216</td>\n",
       "    </tr>\n",
       "    <tr>\n",
       "      <th>populationPerFilm</th>\n",
       "      <td>604.0</td>\n",
       "      <td>790.0</td>\n",
       "    </tr>\n",
       "    <tr>\n",
       "      <th>filmPerGdp</th>\n",
       "      <td>0.0</td>\n",
       "      <td>0.0</td>\n",
       "    </tr>\n",
       "    <tr>\n",
       "      <th>gdpPerFilm</th>\n",
       "      <td>22845345.098389</td>\n",
       "      <td>21897112.834057</td>\n",
       "    </tr>\n",
       "    <tr>\n",
       "      <th>gdpCapitaPerFilm</th>\n",
       "      <td>13.063677</td>\n",
       "      <td>2.767906</td>\n",
       "    </tr>\n",
       "    <tr>\n",
       "      <th>gdp_rank</th>\n",
       "      <td>1</td>\n",
       "      <td>2</td>\n",
       "    </tr>\n",
       "    <tr>\n",
       "      <th>weak_cinematic_impact_rank</th>\n",
       "      <td>1</td>\n",
       "      <td>2</td>\n",
       "    </tr>\n",
       "    <tr>\n",
       "      <th>strong_cinematic_impact_rank</th>\n",
       "      <td>1</td>\n",
       "      <td>2</td>\n",
       "    </tr>\n",
       "    <tr>\n",
       "      <th>weak_cinematic_impact_difference</th>\n",
       "      <td>0</td>\n",
       "      <td>0</td>\n",
       "    </tr>\n",
       "    <tr>\n",
       "      <th>strong_cinematic_impact_difference</th>\n",
       "      <td>0</td>\n",
       "      <td>0</td>\n",
       "    </tr>\n",
       "  </tbody>\n",
       "</table>\n",
       "</div>"
      ],
      "text/plain": [
       "                                                    0                 1\n",
       "region                                             US                GB\n",
       "countryName                            United States    United Kingdom \n",
       "population                                  298444215          60609153\n",
       "gdp_capita                                    37800.0           27700.0\n",
       "gdp                                  11281191327000.0   1678873538100.0\n",
       "numFilms                                       493807             76671\n",
       "votes                                       471757971          19222468\n",
       "avgRating                                    6.752134          7.116521\n",
       "qualityScore                        3185373098.681303  136797101.809216\n",
       "populationPerFilm                               604.0             790.0\n",
       "filmPerGdp                                        0.0               0.0\n",
       "gdpPerFilm                            22845345.098389   21897112.834057\n",
       "gdpCapitaPerFilm                            13.063677          2.767906\n",
       "gdp_rank                                            1                 2\n",
       "weak_cinematic_impact_rank                          1                 2\n",
       "strong_cinematic_impact_rank                        1                 2\n",
       "weak_cinematic_impact_difference                    0                 0\n",
       "strong_cinematic_impact_difference                  0                 0"
      ]
     },
     "execution_count": 4,
     "metadata": {},
     "output_type": "execute_result"
    }
   ],
   "source": [
    "df.T"
   ]
  },
  {
   "cell_type": "code",
   "execution_count": null,
   "id": "7f74eb07-3a15-470a-8c7b-9b7bbc37a033",
   "metadata": {},
   "outputs": [],
   "source": []
  }
 ],
 "metadata": {
  "kernelspec": {
   "display_name": "Python 3 (ipykernel)",
   "language": "python",
   "name": "python3"
  },
  "language_info": {
   "codemirror_mode": {
    "name": "ipython",
    "version": 3
   },
   "file_extension": ".py",
   "mimetype": "text/x-python",
   "name": "python",
   "nbconvert_exporter": "python",
   "pygments_lexer": "ipython3",
   "version": "3.11.1"
  }
 },
 "nbformat": 4,
 "nbformat_minor": 5
}
