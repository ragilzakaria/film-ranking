{
 "cells": [
  {
   "cell_type": "code",
   "execution_count": 1,
   "id": "79e60145-6571-42d4-b6f6-b3b1f075d20c",
   "metadata": {
    "editable": true,
    "slideshow": {
     "slide_type": ""
    },
    "tags": [
     "parameters"
    ]
   },
   "outputs": [],
   "source": [
    "start_year = 2000\n",
    "end_year = 2003"
   ]
  },
  {
   "cell_type": "code",
   "execution_count": 2,
   "id": "cdf314df-04ed-414f-b89a-a0284f2fb910",
   "metadata": {
    "editable": true,
    "slideshow": {
     "slide_type": ""
    },
    "tags": []
   },
   "outputs": [],
   "source": [
    "from film_ranking.lib.analyze import get_producers_rank"
   ]
  },
  {
   "cell_type": "code",
   "execution_count": 3,
   "id": "54dcef88-976c-423c-ad87-27bd2266c742",
   "metadata": {
    "editable": true,
    "slideshow": {
     "slide_type": ""
    },
    "tags": []
   },
   "outputs": [
    {
     "data": {
      "text/html": [
       "<div>\n",
       "<style scoped>\n",
       "    .dataframe tbody tr th:only-of-type {\n",
       "        vertical-align: middle;\n",
       "    }\n",
       "\n",
       "    .dataframe tbody tr th {\n",
       "        vertical-align: top;\n",
       "    }\n",
       "\n",
       "    .dataframe thead th {\n",
       "        text-align: right;\n",
       "    }\n",
       "</style>\n",
       "<table border=\"1\" class=\"dataframe\">\n",
       "  <thead>\n",
       "    <tr style=\"text-align: right;\">\n",
       "      <th></th>\n",
       "      <th>producerId</th>\n",
       "      <th>producerName</th>\n",
       "      <th>movie</th>\n",
       "      <th>movieCount</th>\n",
       "      <th>awards</th>\n",
       "      <th>awardsCount</th>\n",
       "      <th>avgRating</th>\n",
       "      <th>totalVotes</th>\n",
       "      <th>totalProduct</th>\n",
       "    </tr>\n",
       "  </thead>\n",
       "  <tbody>\n",
       "    <tr>\n",
       "      <th>0</th>\n",
       "      <td>nm0001392</td>\n",
       "      <td>Peter Jackson</td>\n",
       "      <td>The Lord of the Rings: The Fellowship of the R...</td>\n",
       "      <td>4</td>\n",
       "      <td>NYFCC Award Best Director 2003, DFWFCA Award B...</td>\n",
       "      <td>270.0</td>\n",
       "      <td>8.90</td>\n",
       "      <td>5802666</td>\n",
       "      <td>51643727.40</td>\n",
       "    </tr>\n",
       "    <tr>\n",
       "      <th>1</th>\n",
       "      <td>nm0909638</td>\n",
       "      <td>Fran Walsh</td>\n",
       "      <td>The Lord of the Rings: The Fellowship of the R...</td>\n",
       "      <td>3</td>\n",
       "      <td>DFWFCA Award Best Screenplay 2004, UFCA Award ...</td>\n",
       "      <td>108.0</td>\n",
       "      <td>8.90</td>\n",
       "      <td>5802604</td>\n",
       "      <td>51643175.60</td>\n",
       "    </tr>\n",
       "    <tr>\n",
       "      <th>2</th>\n",
       "      <td>nm0651614</td>\n",
       "      <td>Barrie M. Osborne</td>\n",
       "      <td>The Lord of the Rings: The Fellowship of the R...</td>\n",
       "      <td>4</td>\n",
       "      <td>ACCA Best Motion Picture 2001, Oscar Best Pict...</td>\n",
       "      <td>24.0</td>\n",
       "      <td>8.15</td>\n",
       "      <td>5802813</td>\n",
       "      <td>47292925.95</td>\n",
       "    </tr>\n",
       "    <tr>\n",
       "      <th>3</th>\n",
       "      <td>nm8662749</td>\n",
       "      <td>Eric Monette</td>\n",
       "      <td>The Lord of the Rings: The Return of the King,...</td>\n",
       "      <td>2</td>\n",
       "      <td>None</td>\n",
       "      <td>NaN</td>\n",
       "      <td>8.90</td>\n",
       "      <td>3784097</td>\n",
       "      <td>33678463.30</td>\n",
       "    </tr>\n",
       "    <tr>\n",
       "      <th>4</th>\n",
       "      <td>nm0000988</td>\n",
       "      <td>Jerry Bruckheimer</td>\n",
       "      <td>Bad Boys II,Gone in 60 Seconds,Coyote Ugly,Rem...</td>\n",
       "      <td>10</td>\n",
       "      <td>PGA Award Outstanding Producer of Competition ...</td>\n",
       "      <td>58.0</td>\n",
       "      <td>6.55</td>\n",
       "      <td>3022870</td>\n",
       "      <td>19799798.50</td>\n",
       "    </tr>\n",
       "  </tbody>\n",
       "</table>\n",
       "</div>"
      ],
      "text/plain": [
       "  producerId       producerName  \\\n",
       "0  nm0001392      Peter Jackson   \n",
       "1  nm0909638         Fran Walsh   \n",
       "2  nm0651614  Barrie M. Osborne   \n",
       "3  nm8662749       Eric Monette   \n",
       "4  nm0000988  Jerry Bruckheimer   \n",
       "\n",
       "                                               movie  movieCount  \\\n",
       "0  The Lord of the Rings: The Fellowship of the R...           4   \n",
       "1  The Lord of the Rings: The Fellowship of the R...           3   \n",
       "2  The Lord of the Rings: The Fellowship of the R...           4   \n",
       "3  The Lord of the Rings: The Return of the King,...           2   \n",
       "4  Bad Boys II,Gone in 60 Seconds,Coyote Ugly,Rem...          10   \n",
       "\n",
       "                                              awards  awardsCount  avgRating  \\\n",
       "0  NYFCC Award Best Director 2003, DFWFCA Award B...        270.0       8.90   \n",
       "1  DFWFCA Award Best Screenplay 2004, UFCA Award ...        108.0       8.90   \n",
       "2  ACCA Best Motion Picture 2001, Oscar Best Pict...         24.0       8.15   \n",
       "3                                               None          NaN       8.90   \n",
       "4  PGA Award Outstanding Producer of Competition ...         58.0       6.55   \n",
       "\n",
       "   totalVotes  totalProduct  \n",
       "0     5802666   51643727.40  \n",
       "1     5802604   51643175.60  \n",
       "2     5802813   47292925.95  \n",
       "3     3784097   33678463.30  \n",
       "4     3022870   19799798.50  "
      ]
     },
     "execution_count": 3,
     "metadata": {},
     "output_type": "execute_result"
    }
   ],
   "source": [
    "df = get_producers_rank(\"movie\", start_year, end_year)\n",
    "df.head()"
   ]
  },
  {
   "cell_type": "code",
   "execution_count": null,
   "id": "e244c894-4109-4344-89ed-69427f97d9d7",
   "metadata": {
    "editable": true,
    "slideshow": {
     "slide_type": ""
    },
    "tags": []
   },
   "outputs": [],
   "source": []
  }
 ],
 "metadata": {
  "kernelspec": {
   "display_name": "Python 3 (ipykernel)",
   "language": "python",
   "name": "python3"
  },
  "language_info": {
   "codemirror_mode": {
    "name": "ipython",
    "version": 3
   },
   "file_extension": ".py",
   "mimetype": "text/x-python",
   "name": "python",
   "nbconvert_exporter": "python",
   "pygments_lexer": "ipython3",
   "version": "3.11.1"
  }
 },
 "nbformat": 4,
 "nbformat_minor": 5
}
